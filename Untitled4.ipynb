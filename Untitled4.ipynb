{
 "cells": [
  {
   "cell_type": "code",
   "execution_count": 4,
   "metadata": {},
   "outputs": [
    {
     "name": "stdout",
     "output_type": "stream",
     "text": [
      "  sky    airtemp  humidity  wind    water  forecast  enjoysport\n",
      "0  sunny  warm      normal   strong  warm     sam...           \n",
      "1  sunny  warm      high     strong  warm     sam...           \n",
      "2  rainy  cold      high     strong  warm     cha...           \n",
      "3  sunny  warm      high     strong  cool     cha...           \n"
     ]
    }
   ],
   "source": [
    "import pandas as pd\n",
    "data = pd.read_csv('table.csv') \n",
    "columnLength = data.shape[1]\n",
    "print(data)"
   ]
  },
  {
   "cell_type": "code",
   "execution_count": 5,
   "metadata": {},
   "outputs": [],
   "source": [
    "h = ['0']*(columnLength-1)\n",
    "hp = []\n",
    "hn = []"
   ]
  },
  {
   "cell_type": "code",
   "execution_count": 6,
   "metadata": {},
   "outputs": [],
   "source": [
    "for trainingExample in data.values:\n",
    "    if trainingExample[-1]!='No':\n",
    "        hp.append(list(trainingExample))\n",
    "    else:\n",
    "        hn.append(list(trainingExample))"
   ]
  },
  {
   "cell_type": "code",
   "execution_count": 7,
   "metadata": {},
   "outputs": [],
   "source": [
    "for i in range(len(hp)):\n",
    "    for j in range(columnLength-1):\n",
    "        if(h[j]=='0'):\n",
    "            h[j] = hp[i][j]\n",
    "        if(h[j]!=hp[i][j]):\n",
    "            h[j]='?'\n",
    "        else:\n",
    "            h[j]=hp[i][j]"
   ]
  },
  {
   "cell_type": "code",
   "execution_count": 8,
   "metadata": {},
   "outputs": [
    {
     "name": "stdout",
     "output_type": "stream",
     "text": [
      "\n",
      "The possitive Hypothesis are\n",
      "[['sunny  warm      normal   strong  warm     same      yes'], ['sunny  warm      high     strong  warm     same      yes'], ['rainy  cold      high     strong  warm     change    no'], ['sunny  warm      high     strong  cool     change    yes']]\n",
      "\n",
      "The negative Hypothesis are\n",
      "[]\n",
      "\n",
      "The Maximally Specific Hypothesis is\n",
      "[]\n"
     ]
    }
   ],
   "source": [
    "print('\\nThe possitive Hypothesis are')\n",
    "print(hp)\n",
    "print('\\nThe negative Hypothesis are')\n",
    "print(hn)\n",
    "print('\\nThe Maximally Specific Hypothesis is')\n",
    "print(h)\n"
   ]
  },
  {
   "cell_type": "code",
   "execution_count": null,
   "metadata": {},
   "outputs": [],
   "source": []
  }
 ],
 "metadata": {
  "kernelspec": {
   "display_name": "Python 3",
   "language": "python",
   "name": "python3"
  },
  "language_info": {
   "codemirror_mode": {
    "name": "ipython",
    "version": 3
   },
   "file_extension": ".py",
   "mimetype": "text/x-python",
   "name": "python",
   "nbconvert_exporter": "python",
   "pygments_lexer": "ipython3",
   "version": "3.7.1"
  }
 },
 "nbformat": 4,
 "nbformat_minor": 2
}
